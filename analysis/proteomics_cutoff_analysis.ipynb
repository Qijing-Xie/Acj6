{
 "cells": [
  {
   "cell_type": "code",
   "execution_count": 1,
   "metadata": {},
   "outputs": [],
   "source": [
    "import pandas as pd\n",
    "import numpy as np\n",
    "import matplotlib.pyplot as plt\n",
    "from sklearn.metrics import r2_score"
   ]
  },
  {
   "cell_type": "code",
   "execution_count": 2,
   "metadata": {},
   "outputs": [
    {
     "data": {
      "text/html": [
       "<div>\n",
       "<style scoped>\n",
       "    .dataframe tbody tr th:only-of-type {\n",
       "        vertical-align: middle;\n",
       "    }\n",
       "\n",
       "    .dataframe tbody tr th {\n",
       "        vertical-align: top;\n",
       "    }\n",
       "\n",
       "    .dataframe thead th {\n",
       "        text-align: right;\n",
       "    }\n",
       "</style>\n",
       "<table border=\"1\" class=\"dataframe\">\n",
       "  <thead>\n",
       "    <tr style=\"text-align: right;\">\n",
       "      <th></th>\n",
       "      <th>126:127C</th>\n",
       "      <th>127N:128N</th>\n",
       "      <th>127N:127C</th>\n",
       "      <th>126:128N</th>\n",
       "      <th>126:128C</th>\n",
       "      <th>127N:129C</th>\n",
       "      <th>127N:128C</th>\n",
       "      <th>126:129N</th>\n",
       "      <th>128C:129C</th>\n",
       "      <th>129N:130N</th>\n",
       "      <th>...</th>\n",
       "      <th>accession_number</th>\n",
       "      <th>numPepsUnique</th>\n",
       "      <th>accession_numbers</th>\n",
       "      <th>entry_name</th>\n",
       "      <th>FBgn</th>\n",
       "      <th>plasma membrane</th>\n",
       "      <th>membrane</th>\n",
       "      <th>cytosol</th>\n",
       "      <th>nucleus</th>\n",
       "      <th>mitochondria</th>\n",
       "    </tr>\n",
       "    <tr>\n",
       "      <th>flybase</th>\n",
       "      <th></th>\n",
       "      <th></th>\n",
       "      <th></th>\n",
       "      <th></th>\n",
       "      <th></th>\n",
       "      <th></th>\n",
       "      <th></th>\n",
       "      <th></th>\n",
       "      <th></th>\n",
       "      <th></th>\n",
       "      <th></th>\n",
       "      <th></th>\n",
       "      <th></th>\n",
       "      <th></th>\n",
       "      <th></th>\n",
       "      <th></th>\n",
       "      <th></th>\n",
       "      <th></th>\n",
       "      <th></th>\n",
       "      <th></th>\n",
       "      <th></th>\n",
       "    </tr>\n",
       "  </thead>\n",
       "  <tbody>\n",
       "    <tr>\n",
       "      <th>Gfrl</th>\n",
       "      <td>0.5585</td>\n",
       "      <td>1.818</td>\n",
       "      <td>0.8635</td>\n",
       "      <td>1.467</td>\n",
       "      <td>0.081</td>\n",
       "      <td>2.338</td>\n",
       "      <td>0.425</td>\n",
       "      <td>-0.1195</td>\n",
       "      <td>2.323</td>\n",
       "      <td>0.428</td>\n",
       "      <td>...</td>\n",
       "      <td>Q59DV8</td>\n",
       "      <td>3</td>\n",
       "      <td>Q59DV8|C4IXY7|Q8MQS5|Q9W1F6</td>\n",
       "      <td>Munin</td>\n",
       "      <td>FBgn0262869</td>\n",
       "      <td>1</td>\n",
       "      <td>1</td>\n",
       "      <td>0</td>\n",
       "      <td>0</td>\n",
       "      <td>0</td>\n",
       "    </tr>\n",
       "    <tr>\n",
       "      <th>wrapper</th>\n",
       "      <td>1.5195</td>\n",
       "      <td>0.586</td>\n",
       "      <td>1.2475</td>\n",
       "      <td>0.841</td>\n",
       "      <td>0.310</td>\n",
       "      <td>1.818</td>\n",
       "      <td>0.020</td>\n",
       "      <td>0.1895</td>\n",
       "      <td>1.768</td>\n",
       "      <td>0.408</td>\n",
       "      <td>...</td>\n",
       "      <td>Q9W260</td>\n",
       "      <td>12</td>\n",
       "      <td>Q9W260|Q9XZB7</td>\n",
       "      <td>GH03113p</td>\n",
       "      <td>FBgn0025878</td>\n",
       "      <td>0</td>\n",
       "      <td>0</td>\n",
       "      <td>0</td>\n",
       "      <td>0</td>\n",
       "      <td>0</td>\n",
       "    </tr>\n",
       "    <tr>\n",
       "      <th>nSyb</th>\n",
       "      <td>1.6875</td>\n",
       "      <td>2.162</td>\n",
       "      <td>2.1115</td>\n",
       "      <td>2.315</td>\n",
       "      <td>0.338</td>\n",
       "      <td>2.182</td>\n",
       "      <td>0.544</td>\n",
       "      <td>0.0945</td>\n",
       "      <td>1.540</td>\n",
       "      <td>0.815</td>\n",
       "      <td>...</td>\n",
       "      <td>Q9W0C1</td>\n",
       "      <td>8</td>\n",
       "      <td>Q9W0C1|Q9W0C2|D0IQJ1|Q86BQ0</td>\n",
       "      <td>GH04664p</td>\n",
       "      <td>FBgn0013342</td>\n",
       "      <td>1</td>\n",
       "      <td>1</td>\n",
       "      <td>0</td>\n",
       "      <td>0</td>\n",
       "      <td>0</td>\n",
       "    </tr>\n",
       "    <tr>\n",
       "      <th>shg</th>\n",
       "      <td>1.2945</td>\n",
       "      <td>0.740</td>\n",
       "      <td>1.3495</td>\n",
       "      <td>0.674</td>\n",
       "      <td>-0.305</td>\n",
       "      <td>1.446</td>\n",
       "      <td>-0.148</td>\n",
       "      <td>-0.2425</td>\n",
       "      <td>1.439</td>\n",
       "      <td>0.832</td>\n",
       "      <td>...</td>\n",
       "      <td>Q24298</td>\n",
       "      <td>19</td>\n",
       "      <td>Q24298|C9QP08</td>\n",
       "      <td>DE-cadherin</td>\n",
       "      <td>FBgn0003391</td>\n",
       "      <td>1</td>\n",
       "      <td>1</td>\n",
       "      <td>0</td>\n",
       "      <td>0</td>\n",
       "      <td>0</td>\n",
       "    </tr>\n",
       "    <tr>\n",
       "      <th>Nrg</th>\n",
       "      <td>1.5425</td>\n",
       "      <td>1.056</td>\n",
       "      <td>1.5665</td>\n",
       "      <td>1.051</td>\n",
       "      <td>0.181</td>\n",
       "      <td>1.679</td>\n",
       "      <td>0.186</td>\n",
       "      <td>0.0425</td>\n",
       "      <td>1.448</td>\n",
       "      <td>0.776</td>\n",
       "      <td>...</td>\n",
       "      <td>P20241</td>\n",
       "      <td>67</td>\n",
       "      <td>P20241|P20241-2|C0PTX6</td>\n",
       "      <td>Neuroglian</td>\n",
       "      <td>FBgn0264975</td>\n",
       "      <td>1</td>\n",
       "      <td>1</td>\n",
       "      <td>0</td>\n",
       "      <td>0</td>\n",
       "      <td>0</td>\n",
       "    </tr>\n",
       "  </tbody>\n",
       "</table>\n",
       "<p>5 rows × 22 columns</p>\n",
       "</div>"
      ],
      "text/plain": [
       "         126:127C  127N:128N  127N:127C  126:128N  126:128C  127N:129C  \\\n",
       "flybase                                                                  \n",
       "Gfrl       0.5585      1.818     0.8635     1.467     0.081      2.338   \n",
       "wrapper    1.5195      0.586     1.2475     0.841     0.310      1.818   \n",
       "nSyb       1.6875      2.162     2.1115     2.315     0.338      2.182   \n",
       "shg        1.2945      0.740     1.3495     0.674    -0.305      1.446   \n",
       "Nrg        1.5425      1.056     1.5665     1.051     0.181      1.679   \n",
       "\n",
       "         127N:128C  126:129N  128C:129C  129N:130N  ...  accession_number  \\\n",
       "flybase                                             ...                     \n",
       "Gfrl         0.425   -0.1195      2.323      0.428  ...            Q59DV8   \n",
       "wrapper      0.020    0.1895      1.768      0.408  ...            Q9W260   \n",
       "nSyb         0.544    0.0945      1.540      0.815  ...            Q9W0C1   \n",
       "shg         -0.148   -0.2425      1.439      0.832  ...            Q24298   \n",
       "Nrg          0.186    0.0425      1.448      0.776  ...            P20241   \n",
       "\n",
       "         numPepsUnique            accession_numbers   entry_name         FBgn  \\\n",
       "flybase                                                                         \n",
       "Gfrl                 3  Q59DV8|C4IXY7|Q8MQS5|Q9W1F6        Munin  FBgn0262869   \n",
       "wrapper             12                Q9W260|Q9XZB7     GH03113p  FBgn0025878   \n",
       "nSyb                 8  Q9W0C1|Q9W0C2|D0IQJ1|Q86BQ0     GH04664p  FBgn0013342   \n",
       "shg                 19                Q24298|C9QP08  DE-cadherin  FBgn0003391   \n",
       "Nrg                 67       P20241|P20241-2|C0PTX6   Neuroglian  FBgn0264975   \n",
       "\n",
       "        plasma membrane membrane  cytosol  nucleus  mitochondria  \n",
       "flybase                                                           \n",
       "Gfrl                  1        1        0        0             0  \n",
       "wrapper               0        0        0        0             0  \n",
       "nSyb                  1        1        0        0             0  \n",
       "shg                   1        1        0        0             0  \n",
       "Nrg                   1        1        0        0             0  \n",
       "\n",
       "[5 rows x 22 columns]"
      ]
     },
     "execution_count": 2,
     "metadata": {},
     "output_type": "execute_result"
    }
   ],
   "source": [
    "df = pd.read_csv('../data/df.csv', index_col='flybase', encoding='ISO-8859-1')\n",
    "df.head()"
   ]
  },
  {
   "cell_type": "markdown",
   "metadata": {},
   "source": [
    "# plot correlation of biological replicates"
   ]
  },
  {
   "cell_type": "code",
   "execution_count": 3,
   "metadata": {},
   "outputs": [
    {
     "data": {
      "text/plain": [
       "(-2.0, 2.5)"
      ]
     },
     "execution_count": 3,
     "metadata": {},
     "output_type": "execute_result"
    },
    {
     "data": {
      "image/png": "[encoded data removed]",
      "text/plain": [
       "<Figure size 360x360 with 1 Axes>"
      ]
     },
     "metadata": {
      "needs_background": "light"
     },
     "output_type": "display_data"
    }
   ],
   "source": [
    "fig, ax = plt.subplots(figsize=(5,5))\n",
    "\n",
    "ax.spines['left'].set_position('zero')\n",
    "ax.spines['right'].set_color('none')\n",
    "ax.spines['bottom'].set_position('zero')\n",
    "ax.spines['top'].set_color('none')\n",
    "\n",
    "# WT, -H2O2\n",
    "ax.scatter(df['126:128N'],df['127N:128N'], s=6, alpha=1, c='#a9a9a9', zorder=10)\n",
    "# WT, -HRP\n",
    "ax.scatter(df['126:127C'],df['127N:127C'], s=6, alpha=1, c='#ff7f0e', zorder=10)\n",
    "\n",
    "ax.xaxis.set_ticks_position('bottom')\n",
    "ax.yaxis.set_ticks_position('left')\n",
    "\n",
    "plt.ylim([-2,2.5])\n",
    "plt.xlim([-2,2.5])\n",
    "\n",
    "# plt.savefig('../figure/QC/WT_rep_corr.pdf')"
   ]
  },
  {
   "cell_type": "code",
   "execution_count": 4,
   "metadata": {},
   "outputs": [
    {
     "data": {
      "text/plain": [
       "(-2.0, 2.5)"
      ]
     },
     "execution_count": 4,
     "metadata": {},
     "output_type": "execute_result"
    },
    {
     "data": {
      "image/png": "[encoded data removed]",
      "text/plain": [
       "<Figure size 360x360 with 1 Axes>"
      ]
     },
     "metadata": {
      "needs_background": "light"
     },
     "output_type": "display_data"
    }
   ],
   "source": [
    "fig, ax = plt.subplots(figsize=(5,5))\n",
    "\n",
    "ax.spines['left'].set_position('zero')\n",
    "ax.spines['right'].set_color('none')\n",
    "ax.spines['bottom'].set_position('zero')\n",
    "ax.spines['top'].set_color('none')\n",
    "\n",
    "# WT, -H2O2\n",
    "ax.scatter(df['126:127C'],df['127N:127C'], s=6, alpha=1, c='#a9a9a9', zorder=10)\n",
    "\n",
    "ax.xaxis.set_ticks_position('bottom')\n",
    "ax.yaxis.set_ticks_position('left')\n",
    "\n",
    "plt.ylim([-2,2.5])\n",
    "plt.xlim([-2,2.5])\n",
    "#\n",
    "# plt.savefig('../figure/QC/WT_rep_corr_onlyH2O2.pdf')"
   ]
  },
  {
   "cell_type": "code",
   "execution_count": 5,
   "metadata": {},
   "outputs": [
    {
     "data": {
      "text/html": [
       "<div>\n",
       "<style scoped>\n",
       "    .dataframe tbody tr th:only-of-type {\n",
       "        vertical-align: middle;\n",
       "    }\n",
       "\n",
       "    .dataframe tbody tr th {\n",
       "        vertical-align: top;\n",
       "    }\n",
       "\n",
       "    .dataframe thead th {\n",
       "        text-align: right;\n",
       "    }\n",
       "</style>\n",
       "<table border=\"1\" class=\"dataframe\">\n",
       "  <thead>\n",
       "    <tr style=\"text-align: right;\">\n",
       "      <th></th>\n",
       "      <th>126:127C</th>\n",
       "      <th>127N:128N</th>\n",
       "      <th>127N:127C</th>\n",
       "      <th>126:128N</th>\n",
       "      <th>126:128C</th>\n",
       "      <th>127N:129C</th>\n",
       "      <th>127N:128C</th>\n",
       "      <th>126:129N</th>\n",
       "      <th>128C:129C</th>\n",
       "      <th>129N:130N</th>\n",
       "      <th>...</th>\n",
       "      <th>accession_number</th>\n",
       "      <th>numPepsUnique</th>\n",
       "      <th>accession_numbers</th>\n",
       "      <th>entry_name</th>\n",
       "      <th>FBgn</th>\n",
       "      <th>plasma membrane</th>\n",
       "      <th>membrane</th>\n",
       "      <th>cytosol</th>\n",
       "      <th>nucleus</th>\n",
       "      <th>mitochondria</th>\n",
       "    </tr>\n",
       "    <tr>\n",
       "      <th>flybase</th>\n",
       "      <th></th>\n",
       "      <th></th>\n",
       "      <th></th>\n",
       "      <th></th>\n",
       "      <th></th>\n",
       "      <th></th>\n",
       "      <th></th>\n",
       "      <th></th>\n",
       "      <th></th>\n",
       "      <th></th>\n",
       "      <th></th>\n",
       "      <th></th>\n",
       "      <th></th>\n",
       "      <th></th>\n",
       "      <th></th>\n",
       "      <th></th>\n",
       "      <th></th>\n",
       "      <th></th>\n",
       "      <th></th>\n",
       "      <th></th>\n",
       "      <th></th>\n",
       "    </tr>\n",
       "  </thead>\n",
       "  <tbody>\n",
       "    <tr>\n",
       "      <th>CG16771</th>\n",
       "      <td>NaN</td>\n",
       "      <td>0.215</td>\n",
       "      <td>NaN</td>\n",
       "      <td>-0.014</td>\n",
       "      <td>-0.565</td>\n",
       "      <td>0.366</td>\n",
       "      <td>-0.495</td>\n",
       "      <td>-0.3955</td>\n",
       "      <td>0.822</td>\n",
       "      <td>-0.176</td>\n",
       "      <td>...</td>\n",
       "      <td>A8E6R0</td>\n",
       "      <td>2</td>\n",
       "      <td>A8E6R0|Q9VIW9</td>\n",
       "      <td>IP17434p</td>\n",
       "      <td>FBgn0032779</td>\n",
       "      <td>0</td>\n",
       "      <td>1</td>\n",
       "      <td>0</td>\n",
       "      <td>0</td>\n",
       "      <td>0</td>\n",
       "    </tr>\n",
       "  </tbody>\n",
       "</table>\n",
       "<p>1 rows × 22 columns</p>\n",
       "</div>"
      ],
      "text/plain": [
       "         126:127C  127N:128N  127N:127C  126:128N  126:128C  127N:129C  \\\n",
       "flybase                                                                  \n",
       "CG16771       NaN      0.215        NaN    -0.014    -0.565      0.366   \n",
       "\n",
       "         127N:128C  126:129N  128C:129C  129N:130N  ...  accession_number  \\\n",
       "flybase                                             ...                     \n",
       "CG16771     -0.495   -0.3955      0.822     -0.176  ...            A8E6R0   \n",
       "\n",
       "         numPepsUnique accession_numbers  entry_name         FBgn  \\\n",
       "flybase                                                             \n",
       "CG16771              2     A8E6R0|Q9VIW9    IP17434p  FBgn0032779   \n",
       "\n",
       "        plasma membrane membrane  cytosol  nucleus  mitochondria  \n",
       "flybase                                                           \n",
       "CG16771               0        1        0        0             0  \n",
       "\n",
       "[1 rows x 22 columns]"
      ]
     },
     "execution_count": 5,
     "metadata": {},
     "output_type": "execute_result"
    }
   ],
   "source": [
    "df[df['126:127C'].isna()]"
   ]
  },
  {
   "cell_type": "code",
   "execution_count": 6,
   "metadata": {},
   "outputs": [
    {
     "name": "stdout",
     "output_type": "stream",
     "text": [
      "WT -HRP R^2: 0.7642314231575846\n",
      "WT -H2O2 R^2: 0.8372284515636723\n"
     ]
    }
   ],
   "source": [
    "print('WT -HRP R^2:', str(r2_score(df['126:128N'],df['127N:128N'])))\n",
    "print('WT -H2O2 R^2:', str(r2_score(df['126:127C'].drop(['CG16771']),df['127N:127C'].drop(['CG16771']))))"
   ]
  },
  {
   "cell_type": "code",
   "execution_count": 7,
   "metadata": {},
   "outputs": [
    {
     "data": {
      "text/plain": [
       "(-2.0, 2.5)"
      ]
     },
     "execution_count": 7,
     "metadata": {},
     "output_type": "execute_result"
    },
    {
     "data": {
      "image/png": "[encoded data removed]",
      "text/plain": [
       "<Figure size 360x360 with 1 Axes>"
      ]
     },
     "metadata": {
      "needs_background": "light"
     },
     "output_type": "display_data"
    }
   ],
   "source": [
    "fig, ax = plt.subplots(figsize=(5,5))\n",
    "\n",
    "ax.spines['left'].set_position('zero')\n",
    "ax.spines['right'].set_color('none')\n",
    "ax.spines['bottom'].set_position('zero')\n",
    "ax.spines['top'].set_color('none')\n",
    "\n",
    "# acj66, -H2O2\n",
    "ax.scatter(df['128C:129C'],df['129N:129C'], s=6, alpha=1, c='#a9a9a9', zorder=10)\n",
    "# acj66, -HRP\n",
    "ax.scatter(df['128C:130N'],df['129N:130N'], s=6, alpha=1, c='#ff7f0e', zorder=10)\n",
    "\n",
    "ax.xaxis.set_ticks_position('bottom')\n",
    "ax.yaxis.set_ticks_position('left')\n",
    "\n",
    "plt.ylim([-2,2.5])\n",
    "plt.xlim([-2,2.5])\n",
    "\n",
    "# plt.savefig('../figure/QC/acj66_rep_corr.pdf')"
   ]
  },
  {
   "cell_type": "code",
   "execution_count": 8,
   "metadata": {},
   "outputs": [
    {
     "data": {
      "text/plain": [
       "(-2.0, 2.5)"
      ]
     },
     "execution_count": 8,
     "metadata": {},
     "output_type": "execute_result"
    },
    {
     "data": {
      "image/png": "[encoded data removed]",
      "text/plain": [
       "<Figure size 360x360 with 1 Axes>"
      ]
     },
     "metadata": {
      "needs_background": "light"
     },
     "output_type": "display_data"
    }
   ],
   "source": [
    "fig, ax = plt.subplots(figsize=(5,5))\n",
    "\n",
    "ax.spines['left'].set_position('zero')\n",
    "ax.spines['right'].set_color('none')\n",
    "ax.spines['bottom'].set_position('zero')\n",
    "ax.spines['top'].set_color('none')\n",
    "\n",
    "# acj66, -H2O2\n",
    "ax.scatter(df['128C:129C'],df['129N:129C'], s=6, alpha=1, c='#a9a9a9', zorder=10)\n",
    "\n",
    "ax.xaxis.set_ticks_position('bottom')\n",
    "ax.yaxis.set_ticks_position('left')\n",
    "\n",
    "plt.ylim([-2,2.5])\n",
    "plt.xlim([-2,2.5])\n",
    "\n",
    "# plt.savefig('../figure/QC/acj66_rep_corr_onlyH2O2.pdf')"
   ]
  },
  {
   "cell_type": "code",
   "execution_count": 9,
   "metadata": {},
   "outputs": [
    {
     "name": "stdout",
     "output_type": "stream",
     "text": [
      "acj66 -HRP R^2: 0.4961216328806892\n",
      "acj66 -H2O2 R^2: 0.7470615977297402\n"
     ]
    }
   ],
   "source": [
    "print('acj66 -HRP R^2:', str(r2_score(df['128C:130N'],df['129N:130N'])))\n",
    "print('acj66 -H2O2 R^2:', str(r2_score(df['128C:129C'],df['129N:129C'])))"
   ]
  },
  {
   "cell_type": "markdown",
   "metadata": {},
   "source": [
    "WT vs acj66 sample correlation"
   ]
  },
  {
   "cell_type": "markdown",
   "metadata": {},
   "source": [
    "# Cutoff analysis"
   ]
  },
  {
   "cell_type": "code",
   "execution_count": 10,
   "metadata": {},
   "outputs": [],
   "source": [
    "sample_TMT = {'WT_1':'126','WT_2':'127N','WT_HRP':'128N', 'WT_H2O2':'127C',\n",
    "              'acj66_1':'128C','acj66_2':'129N','acj66_HRP':'130N','acj66_H2O2':'128C'}"
   ]
  },
  {
   "cell_type": "code",
   "execution_count": 11,
   "metadata": {},
   "outputs": [],
   "source": [
    "TMT_sample =  {'126':'WT','127N':'WT','128N':'WT_HRP', '127C':'WT_H2O2',\n",
    "               '128C':'acj66','129N':'acj66','130N':'acj66_HRP','129C':'acj66_H2O2'}"
   ]
  },
  {
   "cell_type": "code",
   "execution_count": 12,
   "metadata": {},
   "outputs": [],
   "source": [
    "genotype_color = {'WT':'#1c75bc', 'acj66':'#ec008c'}"
   ]
  },
  {
   "cell_type": "code",
   "execution_count": 13,
   "metadata": {},
   "outputs": [],
   "source": [
    "FP = df[((df['cytosol'] == 1) | (df['mitochondria'] == 1) | (df['nucleus'] == 1)) & (df['membrane'] != 1)].index\n",
    "TP = df[df['plasma membrane'] == 1].index"
   ]
  },
  {
   "cell_type": "code",
   "execution_count": 14,
   "metadata": {},
   "outputs": [
    {
     "data": {
      "text/html": [
       "<div>\n",
       "<style scoped>\n",
       "    .dataframe tbody tr th:only-of-type {\n",
       "        vertical-align: middle;\n",
       "    }\n",
       "\n",
       "    .dataframe tbody tr th {\n",
       "        vertical-align: top;\n",
       "    }\n",
       "\n",
       "    .dataframe thead th {\n",
       "        text-align: right;\n",
       "    }\n",
       "</style>\n",
       "<table border=\"1\" class=\"dataframe\">\n",
       "  <thead>\n",
       "    <tr style=\"text-align: right;\">\n",
       "      <th></th>\n",
       "      <th>126:127C</th>\n",
       "      <th>127N:128N</th>\n",
       "      <th>127N:127C</th>\n",
       "      <th>126:128N</th>\n",
       "      <th>126:128C</th>\n",
       "      <th>127N:129C</th>\n",
       "      <th>127N:128C</th>\n",
       "      <th>126:129N</th>\n",
       "      <th>128C:129C</th>\n",
       "      <th>129N:130N</th>\n",
       "      <th>...</th>\n",
       "      <th>accession_numbers</th>\n",
       "      <th>entry_name</th>\n",
       "      <th>FBgn</th>\n",
       "      <th>plasma membrane</th>\n",
       "      <th>membrane</th>\n",
       "      <th>cytosol</th>\n",
       "      <th>nucleus</th>\n",
       "      <th>mitochondria</th>\n",
       "      <th>TP</th>\n",
       "      <th>FP</th>\n",
       "    </tr>\n",
       "    <tr>\n",
       "      <th>flybase</th>\n",
       "      <th></th>\n",
       "      <th></th>\n",
       "      <th></th>\n",
       "      <th></th>\n",
       "      <th></th>\n",
       "      <th></th>\n",
       "      <th></th>\n",
       "      <th></th>\n",
       "      <th></th>\n",
       "      <th></th>\n",
       "      <th></th>\n",
       "      <th></th>\n",
       "      <th></th>\n",
       "      <th></th>\n",
       "      <th></th>\n",
       "      <th></th>\n",
       "      <th></th>\n",
       "      <th></th>\n",
       "      <th></th>\n",
       "      <th></th>\n",
       "      <th></th>\n",
       "    </tr>\n",
       "  </thead>\n",
       "  <tbody>\n",
       "    <tr>\n",
       "      <th>Gfrl</th>\n",
       "      <td>0.5585</td>\n",
       "      <td>1.818</td>\n",
       "      <td>0.8635</td>\n",
       "      <td>1.467</td>\n",
       "      <td>0.081</td>\n",
       "      <td>2.338</td>\n",
       "      <td>0.425</td>\n",
       "      <td>-0.1195</td>\n",
       "      <td>2.323</td>\n",
       "      <td>0.428</td>\n",
       "      <td>...</td>\n",
       "      <td>Q59DV8|C4IXY7|Q8MQS5|Q9W1F6</td>\n",
       "      <td>Munin</td>\n",
       "      <td>FBgn0262869</td>\n",
       "      <td>1</td>\n",
       "      <td>1</td>\n",
       "      <td>0</td>\n",
       "      <td>0</td>\n",
       "      <td>0</td>\n",
       "      <td>1</td>\n",
       "      <td>0</td>\n",
       "    </tr>\n",
       "    <tr>\n",
       "      <th>wrapper</th>\n",
       "      <td>1.5195</td>\n",
       "      <td>0.586</td>\n",
       "      <td>1.2475</td>\n",
       "      <td>0.841</td>\n",
       "      <td>0.310</td>\n",
       "      <td>1.818</td>\n",
       "      <td>0.020</td>\n",
       "      <td>0.1895</td>\n",
       "      <td>1.768</td>\n",
       "      <td>0.408</td>\n",
       "      <td>...</td>\n",
       "      <td>Q9W260|Q9XZB7</td>\n",
       "      <td>GH03113p</td>\n",
       "      <td>FBgn0025878</td>\n",
       "      <td>0</td>\n",
       "      <td>0</td>\n",
       "      <td>0</td>\n",
       "      <td>0</td>\n",
       "      <td>0</td>\n",
       "      <td>0</td>\n",
       "      <td>0</td>\n",
       "    </tr>\n",
       "    <tr>\n",
       "      <th>nSyb</th>\n",
       "      <td>1.6875</td>\n",
       "      <td>2.162</td>\n",
       "      <td>2.1115</td>\n",
       "      <td>2.315</td>\n",
       "      <td>0.338</td>\n",
       "      <td>2.182</td>\n",
       "      <td>0.544</td>\n",
       "      <td>0.0945</td>\n",
       "      <td>1.540</td>\n",
       "      <td>0.815</td>\n",
       "      <td>...</td>\n",
       "      <td>Q9W0C1|Q9W0C2|D0IQJ1|Q86BQ0</td>\n",
       "      <td>GH04664p</td>\n",
       "      <td>FBgn0013342</td>\n",
       "      <td>1</td>\n",
       "      <td>1</td>\n",
       "      <td>0</td>\n",
       "      <td>0</td>\n",
       "      <td>0</td>\n",
       "      <td>1</td>\n",
       "      <td>0</td>\n",
       "    </tr>\n",
       "    <tr>\n",
       "      <th>shg</th>\n",
       "      <td>1.2945</td>\n",
       "      <td>0.740</td>\n",
       "      <td>1.3495</td>\n",
       "      <td>0.674</td>\n",
       "      <td>-0.305</td>\n",
       "      <td>1.446</td>\n",
       "      <td>-0.148</td>\n",
       "      <td>-0.2425</td>\n",
       "      <td>1.439</td>\n",
       "      <td>0.832</td>\n",
       "      <td>...</td>\n",
       "      <td>Q24298|C9QP08</td>\n",
       "      <td>DE-cadherin</td>\n",
       "      <td>FBgn0003391</td>\n",
       "      <td>1</td>\n",
       "      <td>1</td>\n",
       "      <td>0</td>\n",
       "      <td>0</td>\n",
       "      <td>0</td>\n",
       "      <td>1</td>\n",
       "      <td>0</td>\n",
       "    </tr>\n",
       "    <tr>\n",
       "      <th>Nrg</th>\n",
       "      <td>1.5425</td>\n",
       "      <td>1.056</td>\n",
       "      <td>1.5665</td>\n",
       "      <td>1.051</td>\n",
       "      <td>0.181</td>\n",
       "      <td>1.679</td>\n",
       "      <td>0.186</td>\n",
       "      <td>0.0425</td>\n",
       "      <td>1.448</td>\n",
       "      <td>0.776</td>\n",
       "      <td>...</td>\n",
       "      <td>P20241|P20241-2|C0PTX6</td>\n",
       "      <td>Neuroglian</td>\n",
       "      <td>FBgn0264975</td>\n",
       "      <td>1</td>\n",
       "      <td>1</td>\n",
       "      <td>0</td>\n",
       "      <td>0</td>\n",
       "      <td>0</td>\n",
       "      <td>1</td>\n",
       "      <td>0</td>\n",
       "    </tr>\n",
       "  </tbody>\n",
       "</table>\n",
       "<p>5 rows × 24 columns</p>\n",
       "</div>"
      ],
      "text/plain": [
       "         126:127C  127N:128N  127N:127C  126:128N  126:128C  127N:129C  \\\n",
       "flybase                                                                  \n",
       "Gfrl       0.5585      1.818     0.8635     1.467     0.081      2.338   \n",
       "wrapper    1.5195      0.586     1.2475     0.841     0.310      1.818   \n",
       "nSyb       1.6875      2.162     2.1115     2.315     0.338      2.182   \n",
       "shg        1.2945      0.740     1.3495     0.674    -0.305      1.446   \n",
       "Nrg        1.5425      1.056     1.5665     1.051     0.181      1.679   \n",
       "\n",
       "         127N:128C  126:129N  128C:129C  129N:130N  ...  \\\n",
       "flybase                                             ...   \n",
       "Gfrl         0.425   -0.1195      2.323      0.428  ...   \n",
       "wrapper      0.020    0.1895      1.768      0.408  ...   \n",
       "nSyb         0.544    0.0945      1.540      0.815  ...   \n",
       "shg         -0.148   -0.2425      1.439      0.832  ...   \n",
       "Nrg          0.186    0.0425      1.448      0.776  ...   \n",
       "\n",
       "                   accession_numbers   entry_name         FBgn  \\\n",
       "flybase                                                          \n",
       "Gfrl     Q59DV8|C4IXY7|Q8MQS5|Q9W1F6        Munin  FBgn0262869   \n",
       "wrapper                Q9W260|Q9XZB7     GH03113p  FBgn0025878   \n",
       "nSyb     Q9W0C1|Q9W0C2|D0IQJ1|Q86BQ0     GH04664p  FBgn0013342   \n",
       "shg                    Q24298|C9QP08  DE-cadherin  FBgn0003391   \n",
       "Nrg           P20241|P20241-2|C0PTX6   Neuroglian  FBgn0264975   \n",
       "\n",
       "         plasma membrane membrane cytosol nucleus  mitochondria  TP  FP  \n",
       "flybase                                                                  \n",
       "Gfrl                   1        1       0       0             0   1   0  \n",
       "wrapper                0        0       0       0             0   0   0  \n",
       "nSyb                   1        1       0       0             0   1   0  \n",
       "shg                    1        1       0       0             0   1   0  \n",
       "Nrg                    1        1       0       0             0   1   0  \n",
       "\n",
       "[5 rows x 24 columns]"
      ]
     },
     "execution_count": 14,
     "metadata": {},
     "output_type": "execute_result"
    }
   ],
   "source": [
    "df['TP'] = df.index.isin(TP)*1\n",
    "df['FP'] = df.index.isin(FP)*1\n",
    "df.head()"
   ]
  },
  {
   "cell_type": "code",
   "execution_count": 15,
   "metadata": {},
   "outputs": [],
   "source": [
    "total_TP = df['TP'].sum()\n",
    "total_FP = df['FP'].sum()"
   ]
  },
  {
   "cell_type": "code",
   "execution_count": 16,
   "metadata": {},
   "outputs": [],
   "source": [
    "def sort(df, group):\n",
    "    # sort\n",
    "    df_sorted = df.sort_values(by=[group], ascending=False)\n",
    "    # calculate TPR and FPR\n",
    "    df_sorted['TP_count'] = df_sorted.TP.cumsum()\n",
    "    df_sorted['FP_count'] = df_sorted.FP.cumsum()\n",
    "    df_sorted['TPR'] = df_sorted['TP_count']/total_TP\n",
    "    df_sorted['FPR'] = df_sorted['FP_count']/total_FP\n",
    "    df_sorted['TPR-FPR'] = df_sorted['TPR'] - df_sorted['FPR']\n",
    "    \n",
    "    return df_sorted"
   ]
  },
  {
   "cell_type": "code",
   "execution_count": 17,
   "metadata": {},
   "outputs": [],
   "source": [
    "def cutoff(df_sorted, group):\n",
    "    cutoff = df_sorted.loc[df_sorted['TPR-FPR'].idxmax()][group]\n",
    "    print('cutoff is:', str(cutoff))\n",
    "    highest_diff = df_sorted['TPR-FPR'].max()\n",
    "    # plot\n",
    "    fig, ax = plt.subplots(figsize=(3,3))\n",
    "    color = genotype_color[TMT_sample[group[:group.find(':')]]]\n",
    "    ax.scatter(df_sorted[group], df_sorted['TPR-FPR'], s=1, c=color)\n",
    "    ax.vlines(cutoff, 0, highest_diff+0.02, linestyles =\"dashed\", colors =\"k\", linewidth=0.7)\n",
    "    \n",
    "    plt.savefig('../figure/TPR_TPR/' + group + '_' + str(cutoff) + '.pdf', bbox_inches='tight')\n",
    "    return cutoff"
   ]
  },
  {
   "cell_type": "code",
   "execution_count": 18,
   "metadata": {},
   "outputs": [],
   "source": [
    "def hist_TP_FP(df_sorted, group, cutoff):\n",
    "    fig, axes = plt.subplots(nrows=2, ncols=1, sharex=True, figsize=(5,3))\n",
    "    bins = np.arange(df_sorted[group].min(), df_sorted[group].max(), 0.08)\n",
    "    ax1,ax2 = axes.ravel()\n",
    "    color = genotype_color[TMT_sample[group[:group.find(':')]]]\n",
    "    # plot FP histogram\n",
    "    FP_data = df_sorted[df_sorted['FP'] == 1][group]\n",
    "    y, x, _ = ax2.hist(FP_data, bins=bins, color='#a9a9a9', weights=np.ones(len(FP_data)) / len(FP_data))\n",
    "    ymax = y.max() # record max value\n",
    "    ax2.set_ylim(0,ymax+0.01)\n",
    "    ax2.invert_yaxis()\n",
    "    ax2.set_xlim(-2,2.3)\n",
    "    ax2.axvline(cutoff_val, linestyle =\"dashed\", color =\"k\", linewidth=0.7)\n",
    "    # plot TP histogram\n",
    "    TP_data = df_sorted[df_sorted['TP'] == 1][group]\n",
    "    y, x, _ = ax1.hist(TP_data, bins=bins, color=color, weights=np.ones(len(TP_data)) / len(TP_data))\n",
    "    ax1.set_ylim(0,ymax+0.01)\n",
    "    ax1.set_xlim(-2,2.3)\n",
    "    # plot cutoff line\n",
    "    ax1.axvline(cutoff_val, linestyle =\"dashed\", color =\"k\", linewidth=0.7)\n",
    "    \n",
    "    plt.subplots_adjust(hspace=0)\n",
    "    plt.savefig('../figure/hist_TP_FP/' + group + '.pdf' )"
   ]
  },
  {
   "cell_type": "code",
   "execution_count": 19,
   "metadata": {},
   "outputs": [],
   "source": [
    "plt.rcParams.update({'font.size': 10,'axes.linewidth': 0.5})"
   ]
  },
  {
   "cell_type": "code",
   "execution_count": 20,
   "metadata": {},
   "outputs": [
    {
     "name": "stdout",
     "output_type": "stream",
     "text": [
      "cutoff is: 0.3835\n"
     ]
    },
    {
     "data": {
      "image/png": "[encoded data removed]",
      "text/plain": [
       "<Figure size 216x216 with 1 Axes>"
      ]
     },
     "metadata": {
      "needs_background": "light"
     },
     "output_type": "display_data"
    },
    {
     "data": {
      "image/png": "[encoded data removed]",
      "text/plain": [
       "<Figure size 360x216 with 2 Axes>"
      ]
     },
     "metadata": {
      "needs_background": "light"
     },
     "output_type": "display_data"
    }
   ],
   "source": [
    "wt1_H2O2_group = '126:127C'\n",
    "df_wt1_H2O2 = sort(df, wt1_H2O2_group)\n",
    "cutoff_val = cutoff(df_wt1_H2O2, wt1_H2O2_group)\n",
    "hist_TP_FP(df_wt1_H2O2, wt1_H2O2_group, cutoff_val)"
   ]
  },
  {
   "cell_type": "code",
   "execution_count": 21,
   "metadata": {},
   "outputs": [
    {
     "name": "stdout",
     "output_type": "stream",
     "text": [
      "numbers of proteins:  457\n"
     ]
    }
   ],
   "source": [
    "prot_wt1_H2O2 = set(df_wt1_H2O2[df_wt1_H2O2[wt1_H2O2_group] > cutoff_val].index)\n",
    "print('numbers of proteins: ', str(len(prot_wt1_H2O2)))"
   ]
  },
  {
   "cell_type": "code",
   "execution_count": 22,
   "metadata": {},
   "outputs": [
    {
     "name": "stdout",
     "output_type": "stream",
     "text": [
      "cutoff is: 0.2425\n"
     ]
    },
    {
     "data": {
      "image/png": "[encoded data removed]",
      "text/plain": [
       "<Figure size 216x216 with 1 Axes>"
      ]
     },
     "metadata": {
      "needs_background": "light"
     },
     "output_type": "display_data"
    },
    {
     "data": {
      "image/png": "[encoded data removed]",
      "text/plain": [
       "<Figure size 360x216 with 2 Axes>"
      ]
     },
     "metadata": {
      "needs_background": "light"
     },
     "output_type": "display_data"
    }
   ],
   "source": [
    "wt2_H2O2_group = '127N:127C'\n",
    "df_wt2_H2O2 = sort(df, wt2_H2O2_group)\n",
    "cutoff_val = cutoff(df_wt2_H2O2, wt2_H2O2_group)\n",
    "hist_TP_FP(df_wt2_H2O2, wt2_H2O2_group, cutoff_val)"
   ]
  },
  {
   "cell_type": "code",
   "execution_count": 23,
   "metadata": {},
   "outputs": [
    {
     "name": "stdout",
     "output_type": "stream",
     "text": [
      "numbers of proteins:  632\n"
     ]
    }
   ],
   "source": [
    "prot_wt2_H2O2 = set(df_wt2_H2O2[df_wt2_H2O2[wt2_H2O2_group] > cutoff_val].index)\n",
    "print('numbers of proteins: ', str(len(prot_wt2_H2O2)))"
   ]
  },
  {
   "cell_type": "code",
   "execution_count": 24,
   "metadata": {},
   "outputs": [
    {
     "name": "stdout",
     "output_type": "stream",
     "text": [
      "cutoff is: 0.177\n"
     ]
    },
    {
     "data": {
      "image/png": "[encoded data removed]",
      "text/plain": [
       "<Figure size 216x216 with 1 Axes>"
      ]
     },
     "metadata": {
      "needs_background": "light"
     },
     "output_type": "display_data"
    },
    {
     "data": {
      "image/png": "[encoded data removed]",
      "text/plain": [
       "<Figure size 360x216 with 2 Axes>"
      ]
     },
     "metadata": {
      "needs_background": "light"
     },
     "output_type": "display_data"
    }
   ],
   "source": [
    "wt1_HRP_group = '126:128N'\n",
    "df_wt1_HRP = sort(df, wt1_HRP_group)\n",
    "cutoff_val = cutoff(df_wt1_HRP, wt1_HRP_group)\n",
    "hist_TP_FP(df_wt1_HRP, wt1_HRP_group, cutoff_val)"
   ]
  },
  {
   "cell_type": "code",
   "execution_count": 25,
   "metadata": {},
   "outputs": [
    {
     "name": "stdout",
     "output_type": "stream",
     "text": [
      "numbers of proteins:  702\n"
     ]
    }
   ],
   "source": [
    "prot_wt1_HRP = set(df_wt1_HRP[df_wt1_HRP[wt1_HRP_group] > cutoff_val].index)\n",
    "print('numbers of proteins: ', str(len(prot_wt1_HRP)))"
   ]
  },
  {
   "cell_type": "code",
   "execution_count": 26,
   "metadata": {},
   "outputs": [
    {
     "name": "stdout",
     "output_type": "stream",
     "text": [
      "cutoff is: 0.188\n"
     ]
    },
    {
     "data": {
      "image/png": "[encoded data removed]",
      "text/plain": [
       "<Figure size 216x216 with 1 Axes>"
      ]
     },
     "metadata": {
      "needs_background": "light"
     },
     "output_type": "display_data"
    },
    {
     "data": {
      "image/png": "[encoded data removed]",
      "text/plain": [
       "<Figure size 360x216 with 2 Axes>"
      ]
     },
     "metadata": {
      "needs_background": "light"
     },
     "output_type": "display_data"
    }
   ],
   "source": [
    "wt2_HRP_group = '127N:128N'\n",
    "df_wt2_HRP = sort(df, wt2_HRP_group)\n",
    "cutoff_val = cutoff(df_wt2_HRP, wt2_HRP_group)\n",
    "hist_TP_FP(df_wt2_HRP, wt2_HRP_group, cutoff_val)"
   ]
  },
  {
   "cell_type": "code",
   "execution_count": 27,
   "metadata": {},
   "outputs": [
    {
     "name": "stdout",
     "output_type": "stream",
     "text": [
      "numbers of proteins:  634\n"
     ]
    }
   ],
   "source": [
    "prot_wt2_HRP = set(df_wt2_HRP[df_wt2_HRP[wt2_HRP_group] > cutoff_val].index)\n",
    "print('numbers of proteins: ', str(len(prot_wt2_HRP)))"
   ]
  },
  {
   "cell_type": "code",
   "execution_count": 28,
   "metadata": {},
   "outputs": [
    {
     "data": {
      "text/plain": [
       "327"
      ]
     },
     "execution_count": 28,
     "metadata": {},
     "output_type": "execute_result"
    }
   ],
   "source": [
    "prot_wt_4group = set.intersection(prot_wt1_H2O2,prot_wt1_HRP,prot_wt2_H2O2,prot_wt2_HRP)\n",
    "len(prot_wt_4group)"
   ]
  },
  {
   "cell_type": "code",
   "execution_count": 29,
   "metadata": {},
   "outputs": [],
   "source": [
    "def hist_TP_FP(df_sorted, group, cutoff):\n",
    "    fig, axes = plt.subplots(nrows=2, ncols=1, sharex=True, figsize=(5,3))\n",
    "    bins = np.arange(df_sorted[group].min(), df_sorted[group].max(), 0.08)\n",
    "    ax1,ax2 = axes.ravel()\n",
    "    color = genotype_color[TMT_sample[group[:group.find(':')]]]\n",
    "    # plot FP histogram\n",
    "    FP_data = df_sorted[df_sorted['FP'] == 1][group]\n",
    "    y, x, _ = ax2.hist(FP_data, bins=bins, color='#a9a9a9', weights=np.ones(len(FP_data)) / len(FP_data))\n",
    "    ymax = y.max() # record max value\n",
    "    ax2.set_ylim(0,ymax+0.01)\n",
    "    ax2.invert_yaxis()\n",
    "    ax2.set_xlim(-2,2.3)\n",
    "    ax2.axvline(cutoff_val, linestyle =\"dashed\", color =\"k\", linewidth=0.7)\n",
    "    # plot TP histogram\n",
    "    TP_data = df_sorted[df_sorted['TP'] == 1][group]\n",
    "    y, x, _ = ax1.hist(TP_data, bins=bins, color=color, weights=np.ones(len(TP_data)) / len(TP_data))\n",
    "    ax1.set_ylim(0,ymax+0.01)\n",
    "    ax1.set_xlim(-1.5,2)\n",
    "    # plot cutoff line\n",
    "    ax1.axvline(cutoff_val, linestyle =\"dashed\", color =\"k\", linewidth=0.7)\n",
    "    \n",
    "    plt.subplots_adjust(hspace=0)\n",
    "    plt.savefig('../figure/hist_TP_FP/' + group + '.pdf')"
   ]
  },
  {
   "cell_type": "code",
   "execution_count": 30,
   "metadata": {},
   "outputs": [
    {
     "name": "stdout",
     "output_type": "stream",
     "text": [
      "cutoff is: 0.18\n",
      "numbers of proteins:  574\n"
     ]
    },
    {
     "data": {
      "image/png": "[encoded data removed]",
      "text/plain": [
       "<Figure size 216x216 with 1 Axes>"
      ]
     },
     "metadata": {
      "needs_background": "light"
     },
     "output_type": "display_data"
    },
    {
     "data": {
      "image/png": "[encoded data removed]",
      "text/plain": [
       "<Figure size 360x216 with 2 Axes>"
      ]
     },
     "metadata": {
      "needs_background": "light"
     },
     "output_type": "display_data"
    }
   ],
   "source": [
    "acj66_1_H2O2_group = '128C:129C'\n",
    "df_acj66_1_H2O2 = sort(df, acj66_1_H2O2_group)\n",
    "cutoff_val = cutoff(df_acj66_1_H2O2, acj66_1_H2O2_group)\n",
    "hist_TP_FP(df_acj66_1_H2O2, acj66_1_H2O2_group, cutoff_val)\n",
    "prot_acj66_1_H2O2 = set(df_acj66_1_H2O2[df_acj66_1_H2O2[acj66_1_H2O2_group] > cutoff_val].index)\n",
    "print('numbers of proteins: ', str(len(prot_acj66_1_H2O2)))"
   ]
  },
  {
   "cell_type": "code",
   "execution_count": 31,
   "metadata": {},
   "outputs": [
    {
     "name": "stdout",
     "output_type": "stream",
     "text": [
      "cutoff is: 0.031\n",
      "numbers of proteins:  1001\n"
     ]
    },
    {
     "data": {
      "image/png": "[encoded data removed]",
      "text/plain": [
       "<Figure size 216x216 with 1 Axes>"
      ]
     },
     "metadata": {
      "needs_background": "light"
     },
     "output_type": "display_data"
    },
    {
     "data": {
      "image/png": "[encoded data removed]",
      "text/plain": [
       "<Figure size 360x216 with 2 Axes>"
      ]
     },
     "metadata": {
      "needs_background": "light"
     },
     "output_type": "display_data"
    }
   ],
   "source": [
    "acj66_2_H2O2_group = '129N:129C'\n",
    "df_acj66_2_H2O2 = sort(df, acj66_2_H2O2_group)\n",
    "cutoff_val = cutoff(df_acj66_2_H2O2, acj66_2_H2O2_group)\n",
    "hist_TP_FP(df_acj66_2_H2O2, acj66_2_H2O2_group, cutoff_val)\n",
    "prot_acj66_2_H2O2 = set(df_acj66_2_H2O2[df_acj66_2_H2O2[acj66_2_H2O2_group] > cutoff_val].index)\n",
    "print('numbers of proteins: ', str(len(prot_acj66_2_H2O2)))"
   ]
  },
  {
   "cell_type": "code",
   "execution_count": 32,
   "metadata": {},
   "outputs": [
    {
     "name": "stdout",
     "output_type": "stream",
     "text": [
      "cutoff is: 0.098\n",
      "numbers of proteins:  696\n"
     ]
    },
    {
     "data": {
      "image/png": "[encoded data removed]",
      "text/plain": [
       "<Figure size 216x216 with 1 Axes>"
      ]
     },
     "metadata": {
      "needs_background": "light"
     },
     "output_type": "display_data"
    },
    {
     "data": {
      "image/png": "[encoded data removed]",
      "text/plain": [
       "<Figure size 360x216 with 2 Axes>"
      ]
     },
     "metadata": {
      "needs_background": "light"
     },
     "output_type": "display_data"
    }
   ],
   "source": [
    "acj66_1_HRP_group = '128C:130N'\n",
    "df_acj66_1_HRP = sort(df, acj66_1_HRP_group)\n",
    "cutoff_val = cutoff(df_acj66_1_HRP, acj66_1_HRP_group)\n",
    "hist_TP_FP(df_acj66_1_HRP, acj66_1_HRP_group, cutoff_val)\n",
    "prot_acj66_1_HRP = set(df_acj66_1_HRP[df_acj66_1_HRP[acj66_1_HRP_group] > cutoff_val].index)\n",
    "print('numbers of proteins: ', str(len(prot_acj66_1_HRP)))"
   ]
  },
  {
   "cell_type": "code",
   "execution_count": 33,
   "metadata": {},
   "outputs": [
    {
     "name": "stdout",
     "output_type": "stream",
     "text": [
      "cutoff is: 0.193\n",
      "numbers of proteins:  496\n"
     ]
    },
    {
     "data": {
      "image/png": "[encoded data removed]",
      "text/plain": [
       "<Figure size 216x216 with 1 Axes>"
      ]
     },
     "metadata": {
      "needs_background": "light"
     },
     "output_type": "display_data"
    },
    {
     "data": {
      "image/png": "[encoded data removed]",
      "text/plain": [
       "<Figure size 360x216 with 2 Axes>"
      ]
     },
     "metadata": {
      "needs_background": "light"
     },
     "output_type": "display_data"
    }
   ],
   "source": [
    "acj66_2_HRP_group = '129N:130N'\n",
    "df_acj66_2_HRP = sort(df, acj66_2_HRP_group)\n",
    "cutoff_val = cutoff(df_acj66_2_HRP, acj66_2_HRP_group)\n",
    "hist_TP_FP(df_acj66_2_HRP, acj66_2_HRP_group, cutoff_val)\n",
    "prot_acj66_2_HRP = set(df_acj66_2_HRP[df_acj66_2_HRP[acj66_2_HRP_group] > cutoff_val].index)\n",
    "print('numbers of proteins: ', str(len(prot_acj66_2_HRP)))"
   ]
  },
  {
   "cell_type": "code",
   "execution_count": 34,
   "metadata": {},
   "outputs": [
    {
     "data": {
      "text/plain": [
       "231"
      ]
     },
     "execution_count": 34,
     "metadata": {},
     "output_type": "execute_result"
    }
   ],
   "source": [
    "prot_acj66_4group = set.intersection(prot_acj66_1_H2O2,prot_acj66_1_HRP,prot_acj66_2_H2O2,prot_acj66_2_HRP)\n",
    "len(prot_acj66_4group)"
   ]
  },
  {
   "cell_type": "code",
   "execution_count": 35,
   "metadata": {
    "scrolled": true
   },
   "outputs": [
    {
     "data": {
      "text/plain": [
       "390"
      ]
     },
     "execution_count": 35,
     "metadata": {},
     "output_type": "execute_result"
    }
   ],
   "source": [
    "len(prot_acj66_4group.union(prot_wt_4group))"
   ]
  },
  {
   "cell_type": "markdown",
   "metadata": {},
   "source": [
    "# Venn diagrame"
   ]
  },
  {
   "cell_type": "markdown",
   "metadata": {},
   "source": [
    "2 group"
   ]
  },
  {
   "cell_type": "code",
   "execution_count": 36,
   "metadata": {},
   "outputs": [],
   "source": [
    "prot_wt = prot_wt1_HRP.intersection(prot_wt2_H2O2)"
   ]
  },
  {
   "cell_type": "code",
   "execution_count": 37,
   "metadata": {
    "scrolled": true
   },
   "outputs": [
    {
     "data": {
      "text/plain": [
       "459"
      ]
     },
     "execution_count": 37,
     "metadata": {},
     "output_type": "execute_result"
    }
   ],
   "source": [
    "len(prot_wt)"
   ]
  },
  {
   "cell_type": "code",
   "execution_count": 38,
   "metadata": {},
   "outputs": [],
   "source": [
    "prot_acj66 = prot_acj66_1_HRP.intersection(prot_acj66_2_H2O2)"
   ]
  },
  {
   "cell_type": "code",
   "execution_count": 39,
   "metadata": {},
   "outputs": [
    {
     "data": {
      "text/plain": [
       "537"
      ]
     },
     "execution_count": 39,
     "metadata": {},
     "output_type": "execute_result"
    }
   ],
   "source": [
    "len(prot_acj66)"
   ]
  },
  {
   "cell_type": "code",
   "execution_count": 40,
   "metadata": {},
   "outputs": [
    {
     "data": {
      "text/plain": [
       "0.16339869281045752"
      ]
     },
     "execution_count": 40,
     "metadata": {},
     "output_type": "execute_result"
    }
   ],
   "source": [
    "df[df.index.isin(prot_wt)].FP.sum()/len(prot_wt)"
   ]
  },
  {
   "cell_type": "code",
   "execution_count": 41,
   "metadata": {
    "scrolled": true
   },
   "outputs": [
    {
     "data": {
      "text/plain": [
       "685"
      ]
     },
     "execution_count": 41,
     "metadata": {},
     "output_type": "execute_result"
    }
   ],
   "source": [
    "len(prot_wt.union(prot_acj66))"
   ]
  },
  {
   "cell_type": "code",
   "execution_count": 42,
   "metadata": {},
   "outputs": [],
   "source": [
    "from matplotlib_venn import venn2"
   ]
  },
  {
   "cell_type": "code",
   "execution_count": 43,
   "metadata": {},
   "outputs": [
    {
     "data": {
      "text/plain": [
       "'#ec008c'"
      ]
     },
     "execution_count": 43,
     "metadata": {},
     "output_type": "execute_result"
    }
   ],
   "source": [
    "genotype_color['acj66']"
   ]
  },
  {
   "cell_type": "code",
   "execution_count": 44,
   "metadata": {},
   "outputs": [
    {
     "data": {
      "image/png": "[encoded data removed]",
      "text/plain": [
       "<Figure size 432x288 with 1 Axes>"
      ]
     },
     "metadata": {},
     "output_type": "display_data"
    }
   ],
   "source": [
    "v2 = venn2([prot_wt,prot_acj66], set_labels=('',''),\n",
    "           set_colors=('#3499eb','#ff38ae'),alpha=0.8)\n",
    "for text in v2.subset_labels:\n",
    "    text.set_fontsize(15)\n",
    "# plt.savefig('../figure/2_group/venn.pdf', bbox_inches='tight')"
   ]
  },
  {
   "cell_type": "markdown",
   "metadata": {},
   "source": [
    "4 groups"
   ]
  },
  {
   "cell_type": "code",
   "execution_count": 45,
   "metadata": {
    "scrolled": true
   },
   "outputs": [
    {
     "data": {
      "text/plain": [
       "327"
      ]
     },
     "execution_count": 45,
     "metadata": {},
     "output_type": "execute_result"
    }
   ],
   "source": [
    "len(prot_wt_4group)"
   ]
  },
  {
   "cell_type": "code",
   "execution_count": 50,
   "metadata": {},
   "outputs": [],
   "source": [
    "with open('../output/proteins_4group/wt.txt', 'w') as f:\n",
    "    for item in prot_wt_4group:\n",
    "        f.write(\"%s\\n\" % item)"
   ]
  },
  {
   "cell_type": "code",
   "execution_count": 51,
   "metadata": {},
   "outputs": [
    {
     "data": {
      "text/plain": [
       "231"
      ]
     },
     "execution_count": 51,
     "metadata": {},
     "output_type": "execute_result"
    }
   ],
   "source": [
    "len(prot_acj66_4group)"
   ]
  },
  {
   "cell_type": "code",
   "execution_count": 52,
   "metadata": {},
   "outputs": [],
   "source": [
    "with open('../output/proteins_4group/acj66.txt', 'w') as f:\n",
    "    for item in prot_acj66_4group:\n",
    "        f.write(\"%s\\n\" % item)"
   ]
  },
  {
   "cell_type": "code",
   "execution_count": 53,
   "metadata": {
    "scrolled": true
   },
   "outputs": [
    {
     "data": {
      "text/plain": [
       "327"
      ]
     },
     "execution_count": 53,
     "metadata": {},
     "output_type": "execute_result"
    }
   ],
   "source": [
    "len(prot_wt_4group.union(prot_wt_4group))"
   ]
  },
  {
   "cell_type": "code",
   "execution_count": 54,
   "metadata": {
    "scrolled": false
   },
   "outputs": [
    {
     "data": {
      "image/png": "[encoded data removed]",
      "text/plain": [
       "<Figure size 432x288 with 1 Axes>"
      ]
     },
     "metadata": {},
     "output_type": "display_data"
    }
   ],
   "source": [
    "v2 = venn2([prot_wt_4group,prot_acj66_4group], set_labels=('',''),\n",
    "           set_colors=('#3499eb','#ff38ae'),alpha=0.8)\n",
    "for text in v2.subset_labels:\n",
    "    text.set_fontsize(15)\n",
    "# plt.savefig('../figure/4_group/venn.pdf', bbox_inches='tight')"
   ]
  },
  {
   "cell_type": "code",
   "execution_count": 55,
   "metadata": {},
   "outputs": [],
   "source": [
    "with open('../output/proteins_4group/combined.txt', 'w') as f:\n",
    "    for item in prot_wt_4group.union(prot_acj66_4group):\n",
    "        f.write(\"%s\\n\" % item)"
   ]
  },
  {
   "cell_type": "markdown",
   "metadata": {},
   "source": [
    "# ROC"
   ]
  },
  {
   "cell_type": "code",
   "execution_count": 56,
   "metadata": {},
   "outputs": [
    {
     "data": {
      "text/plain": [
       "{'WT': '#1c75bc', 'acj66': '#ec008c'}"
      ]
     },
     "execution_count": 56,
     "metadata": {},
     "output_type": "execute_result"
    }
   ],
   "source": [
    "genotype_color"
   ]
  },
  {
   "cell_type": "code",
   "execution_count": 57,
   "metadata": {},
   "outputs": [
    {
     "data": {
      "text/plain": [
       "<matplotlib.collections.PathCollection at 0x7f84cd2a9710>"
      ]
     },
     "execution_count": 57,
     "metadata": {},
     "output_type": "execute_result"
    },
    {
     "data": {
      "image/png": "[encoded data removed]",
      "text/plain": [
       "<Figure size 288x288 with 1 Axes>"
      ]
     },
     "metadata": {
      "needs_background": "light"
     },
     "output_type": "display_data"
    }
   ],
   "source": [
    "fig, ax = plt.subplots(figsize=(4,4))\n",
    "\n",
    "ax.scatter(df_wt1_HRP['FPR'], df_wt1_HRP['TPR'], c='#65b6f7', s=1, label='126:128N')\n",
    "ax.scatter(df_wt2_H2O2['FPR'], df_wt2_H2O2['TPR'], c='#1c75bc', s=1, label='127N:127C')\n",
    "ax.scatter(df_acj66_1_HRP['FPR'], df_acj66_1_HRP['TPR'], c='#fc72c5', s=1, label='128C:130')\n",
    "ax.scatter(df_acj66_2_HRP['FPR'], df_acj66_2_HRP['TPR'], c='#ec008c', s=1, label='129N:129C')\n",
    "# ax.legend(loc='upper left', bbox_to_anchor=(1, 0.5))\n",
    "\n",
    "# fig.savefig('../figure/2_group/ROC_nolegend.pdf', bbox_inches='tight')"
   ]
  },
  {
   "cell_type": "code",
   "execution_count": 59,
   "metadata": {},
   "outputs": [],
   "source": [
    "useful_col = ['accession_number','ACJ6_vs_WT.logFC','ACJ6_vs_WT.AveExpr', \n",
    "              'ACJ6_vs_WT.P.Value', 'ACJ6_vs_WT.adj.P.Val']"
   ]
  },
  {
   "cell_type": "code",
   "execution_count": 60,
   "metadata": {},
   "outputs": [],
   "source": [
    "# acession_to_name = df['accession_number'].to_dict()\n",
    "# acession_to_name = dict((v,k) for k,v in acession_to_name.items())\n",
    "# all_info.index = all_info.accession_number.map(acession_to_name)"
   ]
  },
  {
   "cell_type": "code",
   "execution_count": 61,
   "metadata": {},
   "outputs": [],
   "source": [
    "all_info = pd.read_csv('../data/acj6_LM.csv', index_col='accession_number')"
   ]
  },
  {
   "cell_type": "code",
   "execution_count": 62,
   "metadata": {},
   "outputs": [
    {
     "data": {
      "text/html": [
       "<div>\n",
       "<style scoped>\n",
       "    .dataframe tbody tr th:only-of-type {\n",
       "        vertical-align: middle;\n",
       "    }\n",
       "\n",
       "    .dataframe tbody tr th {\n",
       "        vertical-align: top;\n",
       "    }\n",
       "\n",
       "    .dataframe thead th {\n",
       "        text-align: right;\n",
       "    }\n",
       "</style>\n",
       "<table border=\"1\" class=\"dataframe\">\n",
       "  <thead>\n",
       "    <tr style=\"text-align: right;\">\n",
       "      <th></th>\n",
       "      <th>accession_number.1</th>\n",
       "      <th>ACJ6_vs_WT.logFC</th>\n",
       "      <th>ACJ6_vs_WT.AveExpr</th>\n",
       "      <th>ACJ6_vs_WT.P.Value</th>\n",
       "      <th>ACJ6_vs_WT.adj.P.Val</th>\n",
       "      <th>logp</th>\n",
       "    </tr>\n",
       "    <tr>\n",
       "      <th>accession_number</th>\n",
       "      <th></th>\n",
       "      <th></th>\n",
       "      <th></th>\n",
       "      <th></th>\n",
       "      <th></th>\n",
       "      <th></th>\n",
       "    </tr>\n",
       "  </thead>\n",
       "  <tbody>\n",
       "    <tr>\n",
       "      <th>PCB</th>\n",
       "      <td>Q0E9E2</td>\n",
       "      <td>0.1785</td>\n",
       "      <td>0.029875</td>\n",
       "      <td>0.560937</td>\n",
       "      <td>0.943299</td>\n",
       "      <td>-0.834089</td>\n",
       "    </tr>\n",
       "    <tr>\n",
       "      <th>CadN</th>\n",
       "      <td>O15943</td>\n",
       "      <td>-0.3875</td>\n",
       "      <td>-0.097625</td>\n",
       "      <td>0.161419</td>\n",
       "      <td>0.837299</td>\n",
       "      <td>-2.631114</td>\n",
       "    </tr>\n",
       "    <tr>\n",
       "      <th>Dscam1</th>\n",
       "      <td>Q0E9K2</td>\n",
       "      <td>-0.5090</td>\n",
       "      <td>-0.018250</td>\n",
       "      <td>0.044881</td>\n",
       "      <td>0.777625</td>\n",
       "      <td>-4.477745</td>\n",
       "    </tr>\n",
       "    <tr>\n",
       "      <th>Ank2</th>\n",
       "      <td>A8JNM5</td>\n",
       "      <td>-0.0005</td>\n",
       "      <td>-0.019875</td>\n",
       "      <td>0.997357</td>\n",
       "      <td>0.999239</td>\n",
       "      <td>-0.003818</td>\n",
       "    </tr>\n",
       "    <tr>\n",
       "      <th>CG9674</th>\n",
       "      <td>Q9VVA4</td>\n",
       "      <td>-0.0160</td>\n",
       "      <td>0.019500</td>\n",
       "      <td>0.908421</td>\n",
       "      <td>0.992867</td>\n",
       "      <td>-0.138567</td>\n",
       "    </tr>\n",
       "    <tr>\n",
       "      <th>...</th>\n",
       "      <td>...</td>\n",
       "      <td>...</td>\n",
       "      <td>...</td>\n",
       "      <td>...</td>\n",
       "      <td>...</td>\n",
       "      <td>...</td>\n",
       "    </tr>\n",
       "    <tr>\n",
       "      <th>CG9492</th>\n",
       "      <td>Q9VH97</td>\n",
       "      <td>0.0425</td>\n",
       "      <td>-0.162125</td>\n",
       "      <td>0.896891</td>\n",
       "      <td>0.992867</td>\n",
       "      <td>-0.156996</td>\n",
       "    </tr>\n",
       "    <tr>\n",
       "      <th>Rbpn-5</th>\n",
       "      <td>Q9W2M0</td>\n",
       "      <td>0.4390</td>\n",
       "      <td>0.047500</td>\n",
       "      <td>0.335480</td>\n",
       "      <td>0.926520</td>\n",
       "      <td>-1.575701</td>\n",
       "    </tr>\n",
       "    <tr>\n",
       "      <th>CG2846</th>\n",
       "      <td>O76206</td>\n",
       "      <td>0.0230</td>\n",
       "      <td>0.073000</td>\n",
       "      <td>0.938342</td>\n",
       "      <td>0.992867</td>\n",
       "      <td>-0.091814</td>\n",
       "    </tr>\n",
       "    <tr>\n",
       "      <th>Pdxk</th>\n",
       "      <td>Q8IGX3</td>\n",
       "      <td>0.0655</td>\n",
       "      <td>0.009375</td>\n",
       "      <td>0.807531</td>\n",
       "      <td>0.982108</td>\n",
       "      <td>-0.308411</td>\n",
       "    </tr>\n",
       "    <tr>\n",
       "      <th>lace</th>\n",
       "      <td>Q9V3F2</td>\n",
       "      <td>0.2065</td>\n",
       "      <td>0.055875</td>\n",
       "      <td>0.410445</td>\n",
       "      <td>0.941310</td>\n",
       "      <td>-1.284739</td>\n",
       "    </tr>\n",
       "  </tbody>\n",
       "</table>\n",
       "<p>2156 rows × 6 columns</p>\n",
       "</div>"
      ],
      "text/plain": [
       "                 accession_number.1  ACJ6_vs_WT.logFC  ACJ6_vs_WT.AveExpr  \\\n",
       "accession_number                                                            \n",
       "PCB                          Q0E9E2            0.1785            0.029875   \n",
       "CadN                         O15943           -0.3875           -0.097625   \n",
       "Dscam1                       Q0E9K2           -0.5090           -0.018250   \n",
       "Ank2                         A8JNM5           -0.0005           -0.019875   \n",
       "CG9674                       Q9VVA4           -0.0160            0.019500   \n",
       "...                             ...               ...                 ...   \n",
       "CG9492                       Q9VH97            0.0425           -0.162125   \n",
       "Rbpn-5                       Q9W2M0            0.4390            0.047500   \n",
       "CG2846                       O76206            0.0230            0.073000   \n",
       "Pdxk                         Q8IGX3            0.0655            0.009375   \n",
       "lace                         Q9V3F2            0.2065            0.055875   \n",
       "\n",
       "                  ACJ6_vs_WT.P.Value  ACJ6_vs_WT.adj.P.Val      logp  \n",
       "accession_number                                                      \n",
       "PCB                         0.560937              0.943299 -0.834089  \n",
       "CadN                        0.161419              0.837299 -2.631114  \n",
       "Dscam1                      0.044881              0.777625 -4.477745  \n",
       "Ank2                        0.997357              0.999239 -0.003818  \n",
       "CG9674                      0.908421              0.992867 -0.138567  \n",
       "...                              ...                   ...       ...  \n",
       "CG9492                      0.896891              0.992867 -0.156996  \n",
       "Rbpn-5                      0.335480              0.926520 -1.575701  \n",
       "CG2846                      0.938342              0.992867 -0.091814  \n",
       "Pdxk                        0.807531              0.982108 -0.308411  \n",
       "lace                        0.410445              0.941310 -1.284739  \n",
       "\n",
       "[2156 rows x 6 columns]"
      ]
     },
     "execution_count": 62,
     "metadata": {},
     "output_type": "execute_result"
    }
   ],
   "source": [
    "all_info"
   ]
  },
  {
   "cell_type": "code",
   "execution_count": 63,
   "metadata": {},
   "outputs": [],
   "source": [
    "selected = all_info[all_info.index.isin(prot_wt.union(prot_acj66))]"
   ]
  },
  {
   "cell_type": "code",
   "execution_count": 64,
   "metadata": {},
   "outputs": [
    {
     "data": {
      "text/plain": [
       "685"
      ]
     },
     "execution_count": 64,
     "metadata": {},
     "output_type": "execute_result"
    }
   ],
   "source": [
    "len(prot_wt.union(prot_acj66))"
   ]
  },
  {
   "cell_type": "code",
   "execution_count": 65,
   "metadata": {},
   "outputs": [],
   "source": [
    "prot_logFC = selected['ACJ6_vs_WT.logFC']\n",
    "prot_logP = -selected['logp']"
   ]
  },
  {
   "cell_type": "code",
   "execution_count": 66,
   "metadata": {},
   "outputs": [
    {
     "data": {
      "text/html": [
       "<div>\n",
       "<style scoped>\n",
       "    .dataframe tbody tr th:only-of-type {\n",
       "        vertical-align: middle;\n",
       "    }\n",
       "\n",
       "    .dataframe tbody tr th {\n",
       "        vertical-align: top;\n",
       "    }\n",
       "\n",
       "    .dataframe thead th {\n",
       "        text-align: right;\n",
       "    }\n",
       "</style>\n",
       "<table border=\"1\" class=\"dataframe\">\n",
       "  <thead>\n",
       "    <tr style=\"text-align: right;\">\n",
       "      <th></th>\n",
       "      <th>accession_number.1</th>\n",
       "      <th>ACJ6_vs_WT.logFC</th>\n",
       "      <th>ACJ6_vs_WT.AveExpr</th>\n",
       "      <th>ACJ6_vs_WT.P.Value</th>\n",
       "      <th>ACJ6_vs_WT.adj.P.Val</th>\n",
       "      <th>logp</th>\n",
       "    </tr>\n",
       "    <tr>\n",
       "      <th>accession_number</th>\n",
       "      <th></th>\n",
       "      <th></th>\n",
       "      <th></th>\n",
       "      <th></th>\n",
       "      <th></th>\n",
       "      <th></th>\n",
       "    </tr>\n",
       "  </thead>\n",
       "  <tbody>\n",
       "    <tr>\n",
       "      <th>CadN</th>\n",
       "      <td>O15943</td>\n",
       "      <td>-0.3875</td>\n",
       "      <td>-0.097625</td>\n",
       "      <td>0.161419</td>\n",
       "      <td>0.837299</td>\n",
       "      <td>-2.631114</td>\n",
       "    </tr>\n",
       "    <tr>\n",
       "      <th>Dscam1</th>\n",
       "      <td>Q0E9K2</td>\n",
       "      <td>-0.5090</td>\n",
       "      <td>-0.018250</td>\n",
       "      <td>0.044881</td>\n",
       "      <td>0.777625</td>\n",
       "      <td>-4.477745</td>\n",
       "    </tr>\n",
       "    <tr>\n",
       "      <th>Ank2</th>\n",
       "      <td>A8JNM5</td>\n",
       "      <td>-0.0005</td>\n",
       "      <td>-0.019875</td>\n",
       "      <td>0.997357</td>\n",
       "      <td>0.999239</td>\n",
       "      <td>-0.003818</td>\n",
       "    </tr>\n",
       "    <tr>\n",
       "      <th>CG9674</th>\n",
       "      <td>Q9VVA4</td>\n",
       "      <td>-0.0160</td>\n",
       "      <td>0.019500</td>\n",
       "      <td>0.908421</td>\n",
       "      <td>0.992867</td>\n",
       "      <td>-0.138567</td>\n",
       "    </tr>\n",
       "    <tr>\n",
       "      <th>Dhc64C</th>\n",
       "      <td>P37276</td>\n",
       "      <td>-0.0175</td>\n",
       "      <td>0.028125</td>\n",
       "      <td>0.900830</td>\n",
       "      <td>0.992867</td>\n",
       "      <td>-0.150674</td>\n",
       "    </tr>\n",
       "    <tr>\n",
       "      <th>...</th>\n",
       "      <td>...</td>\n",
       "      <td>...</td>\n",
       "      <td>...</td>\n",
       "      <td>...</td>\n",
       "      <td>...</td>\n",
       "      <td>...</td>\n",
       "    </tr>\n",
       "    <tr>\n",
       "      <th>CG6723</th>\n",
       "      <td>Q9VGP3</td>\n",
       "      <td>-0.0350</td>\n",
       "      <td>-0.115000</td>\n",
       "      <td>0.837562</td>\n",
       "      <td>0.982108</td>\n",
       "      <td>-0.255732</td>\n",
       "    </tr>\n",
       "    <tr>\n",
       "      <th>CG4364</th>\n",
       "      <td>Q9VL96</td>\n",
       "      <td>-0.6035</td>\n",
       "      <td>0.006625</td>\n",
       "      <td>0.010827</td>\n",
       "      <td>0.718941</td>\n",
       "      <td>-6.529213</td>\n",
       "    </tr>\n",
       "    <tr>\n",
       "      <th>GNBP3</th>\n",
       "      <td>Q9NHA8</td>\n",
       "      <td>-0.2240</td>\n",
       "      <td>0.009000</td>\n",
       "      <td>0.165237</td>\n",
       "      <td>0.837299</td>\n",
       "      <td>-2.597390</td>\n",
       "    </tr>\n",
       "    <tr>\n",
       "      <th>NaN</th>\n",
       "      <td>Q9VJC2</td>\n",
       "      <td>NaN</td>\n",
       "      <td>NaN</td>\n",
       "      <td>NaN</td>\n",
       "      <td>NaN</td>\n",
       "      <td>NaN</td>\n",
       "    </tr>\n",
       "    <tr>\n",
       "      <th>form3</th>\n",
       "      <td>A8JNM1</td>\n",
       "      <td>0.3540</td>\n",
       "      <td>-0.094500</td>\n",
       "      <td>0.228150</td>\n",
       "      <td>0.882858</td>\n",
       "      <td>-2.131944</td>\n",
       "    </tr>\n",
       "  </tbody>\n",
       "</table>\n",
       "<p>699 rows × 6 columns</p>\n",
       "</div>"
      ],
      "text/plain": [
       "                 accession_number.1  ACJ6_vs_WT.logFC  ACJ6_vs_WT.AveExpr  \\\n",
       "accession_number                                                            \n",
       "CadN                         O15943           -0.3875           -0.097625   \n",
       "Dscam1                       Q0E9K2           -0.5090           -0.018250   \n",
       "Ank2                         A8JNM5           -0.0005           -0.019875   \n",
       "CG9674                       Q9VVA4           -0.0160            0.019500   \n",
       "Dhc64C                       P37276           -0.0175            0.028125   \n",
       "...                             ...               ...                 ...   \n",
       "CG6723                       Q9VGP3           -0.0350           -0.115000   \n",
       "CG4364                       Q9VL96           -0.6035            0.006625   \n",
       "GNBP3                        Q9NHA8           -0.2240            0.009000   \n",
       "NaN                          Q9VJC2               NaN                 NaN   \n",
       "form3                        A8JNM1            0.3540           -0.094500   \n",
       "\n",
       "                  ACJ6_vs_WT.P.Value  ACJ6_vs_WT.adj.P.Val      logp  \n",
       "accession_number                                                      \n",
       "CadN                        0.161419              0.837299 -2.631114  \n",
       "Dscam1                      0.044881              0.777625 -4.477745  \n",
       "Ank2                        0.997357              0.999239 -0.003818  \n",
       "CG9674                      0.908421              0.992867 -0.138567  \n",
       "Dhc64C                      0.900830              0.992867 -0.150674  \n",
       "...                              ...                   ...       ...  \n",
       "CG6723                      0.837562              0.982108 -0.255732  \n",
       "CG4364                      0.010827              0.718941 -6.529213  \n",
       "GNBP3                       0.165237              0.837299 -2.597390  \n",
       "NaN                              NaN                   NaN       NaN  \n",
       "form3                       0.228150              0.882858 -2.131944  \n",
       "\n",
       "[699 rows x 6 columns]"
      ]
     },
     "execution_count": 66,
     "metadata": {},
     "output_type": "execute_result"
    }
   ],
   "source": [
    "selected"
   ]
  },
  {
   "cell_type": "code",
   "execution_count": 69,
   "metadata": {},
   "outputs": [],
   "source": [
    "# selected = all_info[all_info.index.isin(prot_wt.union(prot_acj66))]"
   ]
  },
  {
   "cell_type": "code",
   "execution_count": 71,
   "metadata": {},
   "outputs": [],
   "source": [
    "sig_up = selected[(selected['ACJ6_vs_WT.logFC'] >= 0.53) & (selected['ACJ6_vs_WT.P.Value'] < 0.05)]\n",
    "sig_down = selected[(selected['ACJ6_vs_WT.logFC'] <= -0.53) & (selected['ACJ6_vs_WT.P.Value'] < 0.05)]"
   ]
  },
  {
   "cell_type": "code",
   "execution_count": 72,
   "metadata": {},
   "outputs": [
    {
     "data": {
      "text/plain": [
       "(0.0, 9.0)"
      ]
     },
     "execution_count": 72,
     "metadata": {},
     "output_type": "execute_result"
    },
    {
     "data": {
      "image/png": "[encoded data removed]",
      "text/plain": [
       "<Figure size 1080x720 with 1 Axes>"
      ]
     },
     "metadata": {
      "needs_background": "light"
     },
     "output_type": "display_data"
    }
   ],
   "source": [
    "fig, ax = plt.subplots(figsize=(15,10))\n",
    "\n",
    "ax.scatter(prot_logFC, prot_logP, color='#b9bbbd', s=10)\n",
    "ax.scatter(sig_up['ACJ6_vs_WT.logFC'], -sig_up['logp'], color='#FA4659', s=10)\n",
    "ax.scatter(sig_down['ACJ6_vs_WT.logFC'], -sig_down['logp'], color='#2EB872', s=10)\n",
    "\n",
    "for gene in sig_up.index:\n",
    "    ax.annotate(gene, (sig_up.loc[gene]['ACJ6_vs_WT.logFC'], -sig_up.loc[gene]['logp']))\n",
    "    \n",
    "for gene in sig_down.index:\n",
    "    ax.annotate(gene, (sig_down.loc[gene]['ACJ6_vs_WT.logFC'], -sig_down.loc[gene]['logp']))\n",
    "ax.spines['left'].set_position('zero')\n",
    "ax.spines['right'].set_color('none')\n",
    "ax.spines['bottom'].set_position('zero')\n",
    "ax.spines['top'].set_color('none')\n",
    "\n",
    "plt.ylim([0,9])"
   ]
  },
  {
   "cell_type": "code",
   "execution_count": null,
   "metadata": {},
   "outputs": [],
   "source": []
  }
 ],
 "metadata": {
  "kernelspec": {
   "display_name": "Python 3",
   "language": "python",
   "name": "python3"
  },
  "language_info": {
   "codemirror_mode": {
    "name": "ipython",
    "version": 3
   },
   "file_extension": ".py",
   "mimetype": "text/x-python",
   "name": "python",
   "nbconvert_exporter": "python",
   "pygments_lexer": "ipython3",
   "version": "3.7.5"
  }
 },
 "nbformat": 4,
 "nbformat_minor": 2
}
